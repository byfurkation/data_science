{
  "nbformat": 4,
  "nbformat_minor": 0,
  "metadata": {
    "colab": {
      "provenance": [],
      "include_colab_link": true
    },
    "kernelspec": {
      "name": "python3",
      "display_name": "Python 3"
    },
    "language_info": {
      "name": "python"
    }
  },
  "cells": [
    {
      "cell_type": "markdown",
      "metadata": {
        "id": "view-in-github",
        "colab_type": "text"
      },
      "source": [
        "<a href=\"https://colab.research.google.com/github/byfurkation/data_science/blob/main/Python_Data_Science.ipynb\" target=\"_parent\"><img src=\"https://colab.research.google.com/assets/colab-badge.svg\" alt=\"Open In Colab\"/></a>"
      ]
    },
    {
      "cell_type": "markdown",
      "source": [
        "# Python para Data Science\n",
        "\n",
        "Notebook para el curso de Python para Data Science publicado en la plataforma de [Alura Latam](https://www.aluracursos.com/)"
      ],
      "metadata": {
        "id": "lQx6Mmv0OJyT"
      }
    },
    {
      "cell_type": "markdown",
      "source": [
        "# Introducción a Python\n",
        "¡Vamos a conocer Python, nuestro ambiente de estudio, y también generaremos nuestro primer código en este lenguaje!"
      ],
      "metadata": {
        "id": "7SiB6JIpYKmY"
      }
    },
    {
      "cell_type": "markdown",
      "source": [
        "## Google Colaboratory\n",
        "\n",
        "Ya aprendimos qué es [Python](https://www.python.org/) y ahora aprenderemos a usar nuestra herramienta de ejecución [Google Colaboratory](https://colab.research.google.com/) para programar en un notebook interactivo.\n",
        "\n",
        "Vamos a probar algunas funciones de este ambiente."
      ],
      "metadata": {
        "id": "Yugfb3fCOYY9"
      }
    },
    {
      "cell_type": "markdown",
      "source": [
        " **`>>> Usa esta celda para mover <<<`**"
      ],
      "metadata": {
        "id": "2iUHQsJasJAk"
      }
    },
    {
      "cell_type": "code",
      "source": [],
      "metadata": {
        "id": "o7jrX_iKhdkU"
      },
      "execution_count": null,
      "outputs": []
    },
    {
      "cell_type": "markdown",
      "source": [
        "## ¡Hola mundo!\n",
        "\n",
        "Vamos a conocer un poco más de cerca nuestro notebook. Para ello ejecutaremos nuestro primer comando en Python: [`print()`](https://docs.python.org/3/library/functions.html#print)"
      ],
      "metadata": {
        "id": "aLSFP2V7XTfe"
      }
    },
    {
      "cell_type": "code",
      "source": [],
      "metadata": {
        "id": "0qZX8_ZQBYyk"
      },
      "execution_count": null,
      "outputs": []
    },
    {
      "cell_type": "code",
      "source": [],
      "metadata": {
        "id": "GLMzF_AKBY7a"
      },
      "execution_count": null,
      "outputs": []
    },
    {
      "cell_type": "markdown",
      "source": [
        "# Manipulando los datos\n",
        "\n",
        "Vamos a aprender sobre las variables en Python, cómo declararlas y utilizarlas además de conocer otros comandos de este lenguaje. :D"
      ],
      "metadata": {
        "id": "iP8uWQmFYFRs"
      }
    },
    {
      "cell_type": "markdown",
      "source": [
        "## Variables\n",
        "\n",
        "En Data Science trabajamos con varios tipos de datos e informaciones, entonces es esencial saber cómo trabajar con las variables."
      ],
      "metadata": {
        "id": "sLNVmnTbag1Z"
      }
    },
    {
      "cell_type": "markdown",
      "source": [
        "Las variables en Python se crean cuando atribuimos un valor a ella.\n",
        "\n",
        "Para esto, colocamos el nombre de la variable, el signo de igual (`=`) y el valor que queremos atribuirle."
      ],
      "metadata": {
        "id": "lsCY0wahAbf6"
      }
    },
    {
      "cell_type": "code",
      "source": [],
      "metadata": {
        "id": "vsHh5buZADND"
      },
      "execution_count": null,
      "outputs": []
    },
    {
      "cell_type": "code",
      "source": [],
      "metadata": {
        "id": "sivPtqSjADQV"
      },
      "execution_count": null,
      "outputs": []
    },
    {
      "cell_type": "code",
      "source": [],
      "metadata": {
        "id": "JC8jO47wADlm"
      },
      "execution_count": null,
      "outputs": []
    },
    {
      "cell_type": "markdown",
      "source": [
        "Existen algunos tipos de nomes que **no** podemos definir para las variables:\n",
        "\n",
        "- **Nombres que comiencen con números**\n",
        "  - Ejemplos: `10_notas`, `2_nombre_casa`, etc.\n",
        "- **Palabras separadas por espacio**\n",
        "  - Ejemplos: `Nombre escuela`, `notas estudiantes`, etc.\n",
        "- **Nombres de funciones de Python**\n",
        "  - Ejemplos: `print`, `type`, etc."
      ],
      "metadata": {
        "id": "om2N0jHKAzwL"
      }
    },
    {
      "cell_type": "markdown",
      "source": [
        "> Las letras mayúsculas y minúsculas generarán diferentes variables. La variable `edad` es diferente de `Edad` que a su vez es diferente de `EDAD`:\n",
        "``` Python\n",
        "edad = 1\n",
        "Edad = 2\n",
        "EDAD = 3\n",
        "_edad = 4\n",
        "_edad_ = 5\n",
        "print(edad, Edad, EDAD, _edad, _edad_)\n",
        "1 2 3 4 5\n",
        "```"
      ],
      "metadata": {
        "id": "A19vY2GVMujB"
      }
    },
    {
      "cell_type": "markdown",
      "source": [
        "## Tipos de variables\n",
        "\n",
        "Cada variable contiene una clase específica con respecto al tipo de objeto al cual esta hace referencia. Estas clases serán diferentes de acuerdo con el tipo de dato que le sea atribuido a una variable.\n",
        "\n",
        "Para conocer la clase de cada elemento usamos la función [`type()`](https://docs.python.org/3/library/functions.html#type)"
      ],
      "metadata": {
        "id": "UqhzuBhBHsps"
      }
    },
    {
      "cell_type": "code",
      "source": [],
      "metadata": {
        "id": "J5a9t73A_-PX"
      },
      "execution_count": null,
      "outputs": []
    },
    {
      "cell_type": "code",
      "source": [],
      "metadata": {
        "id": "rqmO1ew-_-So"
      },
      "execution_count": null,
      "outputs": []
    },
    {
      "cell_type": "code",
      "source": [],
      "metadata": {
        "id": "xkrPMkeY_-cP"
      },
      "execution_count": null,
      "outputs": []
    },
    {
      "cell_type": "markdown",
      "source": [
        "En un conjunto de datos escolares podemos tener varios tipos de informaciones. Supongamos que tenemos acceso a la ficha de datos del alumno *Penélope Camacho*, cómo transformamos este nombre en variables de Python?\n",
        "\n",
        "#### Ficha:\n",
        "\n",
        "- Nombre: Penélope Camacho\n",
        "- Edad: 11 años\n",
        "- Promedio del semestre: 9,75\n",
        "- Situación de aprobación: Verdadera (aprobado)"
      ],
      "metadata": {
        "id": "O-FxDumfWu0C"
      }
    },
    {
      "cell_type": "code",
      "source": [],
      "metadata": {
        "id": "FabQ7jQf_8Xt"
      },
      "execution_count": null,
      "outputs": []
    },
    {
      "cell_type": "code",
      "source": [],
      "metadata": {
        "id": "IZLQnZUj_8bd"
      },
      "execution_count": null,
      "outputs": []
    },
    {
      "cell_type": "markdown",
      "source": [
        "## Variables numéricas\n",
        "\n",
        "Entre los tipos de datos numéricos vamos a enfocarnos en los tipos `entero` y `float`."
      ],
      "metadata": {
        "id": "KFq_8Sxf-OG0"
      }
    },
    {
      "cell_type": "markdown",
      "source": [
        "Tenemos una tabla de información sobre los diversos cargos, cantidad de personas empleadas y el salario correspondiente:\n",
        "\n",
        "|Cargo | Cantidad | Salario|\n",
        "|---|---|---|\n",
        "|Vigilante | 5 | 300 |\n",
        "|Docente | 16| 500|\n",
        "|Coordinador| 2 |600|\n",
        "\n",
        "Necesitamos trabajar con estos datos para obtener:\n",
        "\n",
        "- La cantidad total de empleados;\n",
        "- La diferencia entre el salario más bajo y más alto; y\n",
        "- El promedio ponderado de los salarios de los empleados de la escuela."
      ],
      "metadata": {
        "id": "8_HYUbkVYdQY"
      }
    },
    {
      "cell_type": "code",
      "source": [],
      "metadata": {
        "id": "F_X-wxdm_5Ys"
      },
      "execution_count": null,
      "outputs": []
    },
    {
      "cell_type": "code",
      "source": [],
      "metadata": {
        "id": "gKmBbhII_5b9"
      },
      "execution_count": null,
      "outputs": []
    },
    {
      "cell_type": "code",
      "source": [],
      "metadata": {
        "id": "fIugsxNy_53j"
      },
      "execution_count": null,
      "outputs": []
    },
    {
      "cell_type": "markdown",
      "source": [
        "## Strings"
      ],
      "metadata": {
        "id": "yQy7b0ZWoD-P"
      }
    },
    {
      "cell_type": "markdown",
      "source": [
        "Strings hace referencia a un conjunto de caracteres formando un texto.\n",
        "\n",
        "Podemos crear Strings cuando atribuimos un dato a una variable entre comillas sencillas (`'`) o comillas dobles (`\"`)."
      ],
      "metadata": {
        "id": "vlo2-DXusv3s"
      }
    },
    {
      "cell_type": "code",
      "source": [],
      "metadata": {
        "id": "ityEWqvh_2wK"
      },
      "execution_count": null,
      "outputs": []
    },
    {
      "cell_type": "markdown",
      "source": [
        "Las variables textuales son objetos que poseen métodos que nos ayudan a formatear strings. Los métodos los podemos ejecutar al definir un objeto de acuerdo con la siguiente estructura:\n",
        "\n",
        "```\n",
        "objeto.metodo()\n",
        "```\n",
        "\n",
        "Existen métodos que no necesitan los `()`, siempre es una buena práctica verificar la documentación para cada caso."
      ],
      "metadata": {
        "id": "2e9UD_CCxqz_"
      }
    },
    {
      "cell_type": "markdown",
      "source": [
        "---\n",
        "**Situación:**\n",
        "\n",
        "Recibimos una variable con el nombre de una profesora de la escuela para añadirla a los registros. Sin embargo, necesitamos darle un tratamiento a este texto antes de insertarlo al sistema."
      ],
      "metadata": {
        "id": "p6aPmMGP4tf9"
      }
    },
    {
      "cell_type": "code",
      "source": [
        "texto = '  Micaela de los Sanyos '"
      ],
      "metadata": {
        "id": "icDWtYTjBO0n"
      },
      "execution_count": null,
      "outputs": []
    },
    {
      "cell_type": "markdown",
      "source": [
        "El objetivo final es que el nombre aparezca de la siguiente forma:\n",
        "\n",
        "```\n",
        "'MICAELA DE LOS SANTOS'\n",
        "```"
      ],
      "metadata": {
        "id": "Dg2ZXSZOGzjC"
      }
    },
    {
      "cell_type": "markdown",
      "source": [
        "### [`str.upper()` ](https://docs.python.org/3/library/stdtypes.html#str.upper)\n",
        "Convierte una string a mayúsculas."
      ],
      "metadata": {
        "id": "iVTAD8q702eN"
      }
    },
    {
      "cell_type": "code",
      "source": [],
      "metadata": {
        "id": "wMVshJrY_ZXh"
      },
      "execution_count": null,
      "outputs": []
    },
    {
      "cell_type": "markdown",
      "source": [
        "### [`str.lower()`](https://docs.python.org/3/library/stdtypes.html#str.lower)\n",
        "Convierte una string a minúsculas."
      ],
      "metadata": {
        "id": "hbDSBtMV1TpG"
      }
    },
    {
      "cell_type": "code",
      "source": [],
      "metadata": {
        "id": "px3yEeNH_YK4"
      },
      "execution_count": null,
      "outputs": []
    },
    {
      "cell_type": "markdown",
      "source": [
        "### [`str.strip()`](https://docs.python.org/3/library/stdtypes.html#str.strip)\n",
        "Elimina los espacios en blanco al inicio y al final de una string."
      ],
      "metadata": {
        "id": "kz47eWM11gii"
      }
    },
    {
      "cell_type": "code",
      "source": [],
      "metadata": {
        "id": "76dLgNa4_XAe"
      },
      "execution_count": null,
      "outputs": []
    },
    {
      "cell_type": "markdown",
      "source": [
        "### [`str.replace(antiguo, nuevo)`](https://docs.python.org/3/library/stdtypes.html#str.replace)\n",
        "\n",
        "Sustituye todas las ocurrencias del texto \"antiguo\" en la string por el  \"nuevo\"."
      ],
      "metadata": {
        "id": "m6notiyS1SCV"
      }
    },
    {
      "cell_type": "code",
      "source": [],
      "metadata": {
        "id": "PNXAixtE_V6R"
      },
      "execution_count": null,
      "outputs": []
    },
    {
      "cell_type": "markdown",
      "source": [
        "### Observaciones\n",
        "\n",
        "1. Los métodos devuelven una **tranformación**, no son ejecutados directamente sobre la variable donde está almacenado el texto.\n",
        "\n",
        "2. Adicionalmente, podemos acumular la ejecución de los métodos."
      ],
      "metadata": {
        "id": "zukvEjhG2Rcn"
      }
    },
    {
      "cell_type": "code",
      "source": [],
      "metadata": {
        "id": "JjkBRklr_T5n"
      },
      "execution_count": null,
      "outputs": []
    },
    {
      "cell_type": "markdown",
      "source": [
        "Para que la transformación se pueda ejecutar debemos atribuir la salida de las transformaciones a las variables"
      ],
      "metadata": {
        "id": "1KbwfVut2h6I"
      }
    },
    {
      "cell_type": "code",
      "source": [],
      "metadata": {
        "id": "ocPP-Jaj_SJI"
      },
      "execution_count": null,
      "outputs": []
    },
    {
      "cell_type": "code",
      "source": [],
      "metadata": {
        "id": "m1RvLGZZ_SP3"
      },
      "execution_count": null,
      "outputs": []
    },
    {
      "cell_type": "markdown",
      "source": [
        "## Capturando datos\n",
        "\n",
        "En algunas aplicaciones necesitamos capturar los valores del usuario de nuestro proyecto. En python, logramos capturar los datos del usuario a través del comando [`input()`](https://docs.python.org/3/library/functions.html#input).\n",
        "\n",
        "Para ejecutar la captura debemos atribuir el resultado de esta función a una variable."
      ],
      "metadata": {
        "id": "0h9Fh5G9kHCa"
      }
    },
    {
      "cell_type": "code",
      "source": [],
      "metadata": {
        "id": "zbH_9i3q_PdY"
      },
      "execution_count": null,
      "outputs": []
    },
    {
      "cell_type": "code",
      "source": [],
      "metadata": {
        "id": "JZy1Q9Tl_PgL"
      },
      "execution_count": null,
      "outputs": []
    },
    {
      "cell_type": "markdown",
      "source": [
        "La salida de este comando siempre será una *string*. Esto quiere decir que aunque capturemos un valor de variable numérica, este será de tipo string.\n",
        "\n",
        "Entonces, será necesario **convertir el resultado cuando no se desea utilizar el valor como tipo string**."
      ],
      "metadata": {
        "id": "7z7hcLCk_aCY"
      }
    },
    {
      "cell_type": "markdown",
      "source": [
        "Existen funciones para la conversión de valores:\n",
        "\n",
        "- Enteros: [`int(dato_para_conversion)`](https://docs.python.org/3/library/functions.html#int)\n",
        "- Coma flotante: [`float(dato_para_conversion)`](https://docs.python.org/3/library/functions.html#float)\n",
        "- String: [`str(dato_para_conversion)`](https://docs.python.org/3/library/functions.html#func-str)\n",
        "- Booleano: [`bool(dato_para_conversion)`](https://docs.python.org/3/library/functions.html#bool)"
      ],
      "metadata": {
        "id": "TOlegATj1Jfp"
      }
    },
    {
      "cell_type": "code",
      "source": [],
      "metadata": {
        "id": "M2ueeH6l_NMe"
      },
      "execution_count": null,
      "outputs": []
    },
    {
      "cell_type": "code",
      "source": [],
      "metadata": {
        "id": "xfWwuViK_NUn"
      },
      "execution_count": null,
      "outputs": []
    },
    {
      "cell_type": "code",
      "source": [],
      "metadata": {
        "id": "uFCHDyew_NZm"
      },
      "execution_count": null,
      "outputs": []
    },
    {
      "cell_type": "markdown",
      "source": [
        "Trataremos de representar mejor ahora el resultado de la transformación que obtuvimos. Nosotros podemos formatear y presentar nuestro resultado mezclando strings con valores no textuales.\n",
        "\n",
        "Para ello utilizamos la estructura de formatación `f` con strings."
      ],
      "metadata": {
        "id": "yNI2-XTbB3aS"
      }
    },
    {
      "cell_type": "code",
      "source": [],
      "metadata": {
        "id": "keJjA5N9_K5i"
      },
      "execution_count": null,
      "outputs": []
    },
    {
      "cell_type": "markdown",
      "source": [
        "# Estructuras condicionales"
      ],
      "metadata": {
        "id": "NwRaiHHHhhyl"
      }
    },
    {
      "cell_type": "code",
      "source": [],
      "metadata": {
        "id": "pa4gLncu-mvU"
      },
      "execution_count": null,
      "outputs": []
    },
    {
      "cell_type": "code",
      "source": [],
      "metadata": {
        "id": "_cWRmDiE-m4p"
      },
      "execution_count": null,
      "outputs": []
    },
    {
      "cell_type": "markdown",
      "source": [
        "## `IF` y `ELSE`\n",
        "\n",
        "Los comandos `if` y `else` son dos estructuras condicionales. El comando `if` ejecutará el bloque de comandos en caso de que la condición citada sea  **verdadera**. El comando `else` ejecutará el bloque de comandos en el caso de que la condicional de `if` sea **falsa**."
      ],
      "metadata": {
        "id": "qXZqg9aYEhAh"
      }
    },
    {
      "cell_type": "markdown",
      "source": [
        "El comando `if` es una palabra clave en Python que significa \"si\". Este se emplea para conformar la estructura condicional, que te permite verificar si una determinada condición es verdadera o falsa e, inmediatamente después, ejecute un bloque de código específico dependiendo del resultado de la verificación. La sintaxis para usar el comando `if` es:\n",
        "\n",
        "\n",
        "\n",
        "```\n",
        "if condicion:\n",
        "    # Realiza algo\n",
        "```\n",
        "\n"
      ],
      "metadata": {
        "id": "EIhlqHXd2Gil"
      }
    },
    {
      "cell_type": "code",
      "source": [],
      "metadata": {
        "id": "S2S6XAFz-czM"
      },
      "execution_count": null,
      "outputs": []
    },
    {
      "cell_type": "code",
      "source": [],
      "metadata": {
        "id": "YHkwMMyY-c1r"
      },
      "execution_count": null,
      "outputs": []
    },
    {
      "cell_type": "markdown",
      "source": [
        "Ya el comando `else` en Python se usa en junción con la palabra clave `if` para formar una estructura condicional. la sintaxis para usar el `else` es:\n",
        "\n",
        "```\n",
        "if condicion:\n",
        "  # codigo en caso de que sea verdad\n",
        "else:\n",
        "  # codigo en caso de que sea falso\n",
        "```\n",
        "\n",
        "el comando `else` se ejecuta cuando la condición verificada por el `if` es evaluada como `False`."
      ],
      "metadata": {
        "id": "27RW2v_sIKct"
      }
    },
    {
      "cell_type": "code",
      "source": [],
      "metadata": {
        "id": "ZTfNJd_f-aOq"
      },
      "execution_count": null,
      "outputs": []
    },
    {
      "cell_type": "code",
      "source": [],
      "metadata": {
        "id": "LPOb5MkV-btq"
      },
      "execution_count": null,
      "outputs": []
    },
    {
      "cell_type": "markdown",
      "source": [
        "---\n",
        "**Situación:**\n",
        "\n",
        "Recibiremos el promedio de la nota de los estudiantes y necesitamos de un algoritmo que ejecute el análisis y determine si el estudiante fue **Aprobado** o **Reprobado**, mostrando un mensaje del resultado. Para ser aprobado, el promedio necesita ser igual o superior a 7.0."
      ],
      "metadata": {
        "id": "BqORg85XX-Nl"
      }
    },
    {
      "cell_type": "code",
      "source": [],
      "metadata": {
        "id": "UukCN4AQ-YYW"
      },
      "execution_count": null,
      "outputs": []
    },
    {
      "cell_type": "code",
      "source": [],
      "metadata": {
        "id": "X0o8FW1H-YkA"
      },
      "execution_count": null,
      "outputs": []
    },
    {
      "cell_type": "markdown",
      "source": [
        "Ahora, nuestra institución educativa estableció que las personas que tengan el promedio entre 5.0 y 7.0 pueden participar del curso de **Recuperación** durante las vacaciones para lograr aprobar.\n",
        "\n",
        "Entonces podemos apoyarnos en un conjunto de `if`s para poder estructurar esta nueva condición."
      ],
      "metadata": {
        "id": "bD9O17HB6LUo"
      }
    },
    {
      "cell_type": "code",
      "source": [],
      "metadata": {
        "id": "G9cJ5O9--W52"
      },
      "execution_count": null,
      "outputs": []
    },
    {
      "cell_type": "code",
      "source": [],
      "metadata": {
        "id": "iU-pjoJt-W89"
      },
      "execution_count": null,
      "outputs": []
    },
    {
      "cell_type": "markdown",
      "source": [
        "Observa que en casos con 3 situaciones como este necesitamos definir bien nuestras condiciones. Pues, si realizamos una condición con `else` al final, este irá a considerar solamente la condición `if` inmediatamente anterior para generar la salida en caso de que el resultado de su operación lógica sea **falso** dando como resultado, dos o más ejecuciones.\n",
        "\n",
        "Por ejemplo:"
      ],
      "metadata": {
        "id": "D5e2mByjvycO"
      }
    },
    {
      "cell_type": "code",
      "source": [],
      "metadata": {
        "id": "C21JmOuK-VU8"
      },
      "execution_count": null,
      "outputs": []
    },
    {
      "cell_type": "code",
      "source": [],
      "metadata": {
        "id": "bHiVgnPs-Vlv"
      },
      "execution_count": null,
      "outputs": []
    },
    {
      "cell_type": "markdown",
      "source": [
        "## `ELIF`\n",
        "\n",
        "El comando `elif` es una palabra clave en Python que significa \"si no, si\" y lo podemos considerar una *contracción* entre `else` e `if`. Se utiliza en conjunto con la palabra clave `if` para formar una estructura condicional en cadena."
      ],
      "metadata": {
        "id": "04T5g-7h4zWx"
      }
    },
    {
      "cell_type": "markdown",
      "source": [
        "la sintaxis para utilizar el comando `elif` es:\n",
        "\n",
        "```\n",
        "if condicion1:\n",
        "    # Realiza algo\n",
        "elif condicion2:\n",
        "    # Realiza otra cosa\n",
        "elif condicion3:\n",
        "    # Realiza otra cosa\n",
        "else:\n",
        "    # Realiza algo diferente\n",
        "```\n",
        "\n",
        "El comando `elif` permite que puedas verificar varias condiciones en cadena, economizando espacio en tu código. Si la primera condición se evalúa como `False`, el interpretador de Python evaluará la próxima condición con el `elif`. Ello continuará hasta que una condición sea evaluada como `True` o hasta que el `else` sea alcazado. Si ninguna de las condiciones es evaluada como `True`, la ejecución del código del comando `else` será iniciada."
      ],
      "metadata": {
        "id": "rNBHr5mm1Lm6"
      }
    },
    {
      "cell_type": "markdown",
      "source": [
        "Vamos a emplear el mismo caso anterior:"
      ],
      "metadata": {
        "id": "MVoykFbB4bd4"
      }
    },
    {
      "cell_type": "code",
      "source": [],
      "metadata": {
        "id": "QFamB78s-TW_"
      },
      "execution_count": null,
      "outputs": []
    },
    {
      "cell_type": "code",
      "source": [],
      "metadata": {
        "id": "nuScbnHF-TfK"
      },
      "execution_count": null,
      "outputs": []
    },
    {
      "cell_type": "markdown",
      "source": [
        "## Operadores\n",
        "\n",
        "Durante la construcción de comandos a veces necesitamos de una elaboración mayor de la expresión condicional, necesitando que algunos operadores lógicos se encuentren integrados."
      ],
      "metadata": {
        "id": "Tf1wSOem6iwZ"
      }
    },
    {
      "cell_type": "markdown",
      "source": [
        "### `AND`, `OR`, `NOT`\n",
        "\n",
        "Los operadores lógicos `and`, `or` y `not` son usados para combinar expresiones lógicas en Python. Ellos son usados frecuentemente en conjunto con el comando `if` para crear estructuras condicionales más complejas.\n"
      ],
      "metadata": {
        "id": "GFIZnRWXGPWO"
      }
    },
    {
      "cell_type": "markdown",
      "source": [
        "- `AND` es usado para verificar si dos condiciones son verdaderas. La expresión lógica¹ `x and y` se evalúa como `True` tan solo si **ambas condiciones `x` y `y` son verdaderas**, y como `False` en caso contrario.\n",
        "\n",
        "- `OR` es usado para verificar si al menos una de las condiciones es verdadera. La expresión lógica `x or y` se evalúa como `True` **si al menos una de las condiciones `x` o `y` es verdadera**, y como `False` si ambas condiciones son falsas.\n",
        "\n",
        "- `NOT` es usado para **negar una condición**. La expresión lógica `not x` es evaluada como `True` si la condición x es falsa, y como `False` si la condición x es verdadera.\n",
        "\n",
        "¹ Una expresión lógica es una declaración que puede ser evaluada como verdadera o falsa. Ella se compone por operandos lógicos² y por operadores lógicos³, que son usados ​​para combinar varias expresiones lógicas en una única expresión.\n",
        "\n",
        "² Los operandos lógicos son los elementos que son comparados o evaluados en una expresión lógica. Ellos son generalmente valores verdaderos o falsos, pero también pueden ser expresiones lógicas más complejas. En Python, los operandos lógicos son los valores `True` y `False`.\n",
        "\n",
        "³ Los operadores lógicos son ls símbolos o palabras clave que son usados ​​para combinar varias expresiones lógicas en una única expresión. En Python, los operadores lógicos son `and`, `or` y `not`, bien como las palabras clave `if`, `elif` e `else`."
      ],
      "metadata": {
        "id": "Z_dgAoHXJbzB"
      }
    },
    {
      "cell_type": "markdown",
      "source": [
        "> Operadores lógicos más comunes\n",
        "\n",
        "|a|b|AND|OR|NOT|\n",
        "|-|-|-|-|-|\n",
        "|0|0|0|0|1\n",
        "|0|1|0|1|-\n",
        "|1|0|0|1|-\n",
        "|1|1|1|1|0\n"
      ],
      "metadata": {
        "id": "2E5aUogf-49u"
      }
    },
    {
      "cell_type": "code",
      "source": [],
      "metadata": {
        "id": "DFKmpvmS-Pa6"
      },
      "execution_count": null,
      "outputs": []
    },
    {
      "cell_type": "code",
      "source": [],
      "metadata": {
        "id": "W5BIrpOD-PeI"
      },
      "execution_count": null,
      "outputs": []
    },
    {
      "cell_type": "code",
      "source": [],
      "metadata": {
        "id": "fpDhYxq4-PiM"
      },
      "execution_count": null,
      "outputs": []
    },
    {
      "cell_type": "markdown",
      "source": [
        "### `IN`\n",
        "\n",
        "Es usado para verificar si un elemento está presente en una lista, tupla u otra colección de conjunto. La expresión `x in y` se evalúa como `True` si el elemento `x` esta presente na variávelen la variable de conjunto `y`, y como `False` en caso contrario."
      ],
      "metadata": {
        "id": "w7EXG1dhWtja"
      }
    },
    {
      "cell_type": "markdown",
      "source": [
        "Podemos verificarlo con variables de texto.\n",
        "\n",
        "---\n",
        "\n",
        "**Situación:**\n",
        "\n",
        "En la escuela nos entregaron una lista con nombres de estudiantes que fueron aprobados según el promedio del semestre, pero es necesario verificar si algunos nombres están en esa lista para confirmar que los datos estén correctos.\n",
        "\n",
        "La lista distribuida puede ser observada a continuación:\n",
        "\n",
        "```\n",
        "lista = 'Juan Pérez, María González, Pedro Rodríguez, Ana López, Carlos Martínez,\n",
        "    Laura Sánchez, José García, Elena Fernández, Luis Morales, Carmen Torres,\n",
        "    David Ruiz, Isabel Ramírez, Javier Díaz, Sara Herrera, Miguel Castro,\n",
        "    Patricia Ortega, Francisco Vargas, Marta Jiménez, Manuel Medina, Rosa Molina,\n",
        "    Alejandro Silva, Silvia Ruiz, Andrés Torres, Natalia Soto, Diego Guerrero,\n",
        "    Paula Ríos, Ricardo Navarro, Alicia Cordero, Carlos Vidal, Lorena Gómez'\n",
        "```\n",
        "\n",
        "Los nombres que necesitas verificar son los siguientes:\n",
        "\n",
        "```\n",
        "nombre_1 = 'Miguel Castro'\n",
        "nombre_2 = 'Marcelo Noguera'\n",
        "```"
      ],
      "metadata": {
        "id": "enJNp6JenQbq"
      }
    },
    {
      "cell_type": "code",
      "source": [],
      "metadata": {
        "id": "gPPN9BCT-Mki"
      },
      "execution_count": null,
      "outputs": []
    },
    {
      "cell_type": "code",
      "source": [],
      "metadata": {
        "id": "GINbG3Fa-Mnb"
      },
      "execution_count": null,
      "outputs": []
    },
    {
      "cell_type": "code",
      "source": [],
      "metadata": {
        "id": "hk-RhNRT-Mp7"
      },
      "execution_count": null,
      "outputs": []
    },
    {
      "cell_type": "markdown",
      "source": [
        "# Estructuras de repetición"
      ],
      "metadata": {
        "id": "aL1vJPewvwvz"
      }
    },
    {
      "cell_type": "markdown",
      "source": [
        "Cuando tenemos que ejecutar un mismo bloque de comandos durante varias ocasiones no es nada práctico hacerlo a mano.\n",
        "\n",
        "**Situación**: Nos fue solicitado obtener e imprimir el promedio de 2 notas de **3 estudantes**:"
      ],
      "metadata": {
        "id": "VcPfCa8d-84t"
      }
    },
    {
      "cell_type": "code",
      "source": [],
      "metadata": {
        "id": "xcx21IGT9qA0"
      },
      "execution_count": null,
      "outputs": []
    },
    {
      "cell_type": "code",
      "source": [],
      "metadata": {
        "id": "Wtbiy9Ay9rGJ"
      },
      "execution_count": null,
      "outputs": []
    },
    {
      "cell_type": "code",
      "source": [],
      "metadata": {
        "id": "Yfyz4anY9rIr"
      },
      "execution_count": null,
      "outputs": []
    },
    {
      "cell_type": "markdown",
      "source": [
        "Ahora imaginemos una situación en que no son tan solo 3 estudiantes, sino 100 estudiantes. No sería nada interesante repetir el mismo código 100 veces, sino **ejecutar el mismo código 100 veces**.\n",
        "\n",
        "¡Esta estructura la logramos construir con lazos de repetición!"
      ],
      "metadata": {
        "id": "9puIuvUbFSFX"
      }
    },
    {
      "cell_type": "markdown",
      "source": [
        "## `WHILE`"
      ],
      "metadata": {
        "id": "uLO9-aE4-wx8"
      }
    },
    {
      "cell_type": "markdown",
      "source": [
        "El lazo `while` es una estructura de control de repetición en Python que permite ejecutar un bloque de código repetidamente mientras que una determinada condición sea verdadera. Su estructura es:\n",
        "\n",
        "\n",
        "\n",
        "```\n",
        "while condicion:\n",
        "    # bloque de codigo\n",
        "```\n",
        "\n",
        "Vamos a construir un ejemplo con un contador de 1 hasta 10.\n"
      ],
      "metadata": {
        "id": "rXZxDMiqHxm9"
      }
    },
    {
      "cell_type": "code",
      "source": [],
      "metadata": {
        "id": "Hd0ZSWxD9wCD"
      },
      "execution_count": null,
      "outputs": []
    },
    {
      "cell_type": "code",
      "source": [],
      "metadata": {
        "id": "miFHNqp29nOL"
      },
      "execution_count": null,
      "outputs": []
    },
    {
      "cell_type": "markdown",
      "source": [
        "Ahora vamos a colectar las notas y promedios de cada alumno dentro del lazo `while`. Haremos un ejemplo con 3 promedios."
      ],
      "metadata": {
        "id": "W4KZPBJuIrut"
      }
    },
    {
      "cell_type": "code",
      "source": [],
      "metadata": {
        "id": "9T5eCLFx9wk6"
      },
      "execution_count": null,
      "outputs": []
    },
    {
      "cell_type": "code",
      "source": [],
      "metadata": {
        "id": "P6E0_dW-9lZ9"
      },
      "execution_count": null,
      "outputs": []
    },
    {
      "cell_type": "markdown",
      "source": [
        "## `FOR`"
      ],
      "metadata": {
        "id": "WgAIaENMMfCP"
      }
    },
    {
      "cell_type": "markdown",
      "source": [
        "El lazo `for` es un tipo de estructura de control de flujo en Python que permite iterar sobre un conjunto de elementos. Su estructura es:\n",
        "\n",
        "\n",
        "\n",
        "```\n",
        "for elemento in conjunto:\n",
        "    # codigo a ser ejecutado para cada elemento\n",
        "```\n",
        "\n",
        "El lazo `for` itera sobre cada elemento del conjunto especificado y ejecuta el bloque de código dentro del lazo para cada elemento. Cuando el lazo llega al final del conjunto, este se interrumpe y el programa continúa la ejecución después del lazo.\n",
        "\n"
      ],
      "metadata": {
        "id": "HxrSZoRAMh-x"
      }
    },
    {
      "cell_type": "markdown",
      "source": [
        "El conjunto lo podemos generar con la función incorporada [`range()`](https://docs.python.org/3/library/functions.html#func-range). Se trata de una función capaz de generar una secuencia de números enteros. La estructura de esta función es:\n",
        "\n",
        "```\n",
        "range(inicio, fin, paso)\n",
        "```\n",
        "\n",
        "Según la documentación, `range()` genera una secuencia de números enteros a partir del valor del parámetro `inicio` hasta el valor del parámetro `fin`, de acuerdo con el valor del parámetro `paso`. Si `inicio` no es especificado, el valor por defecto es `0`. Si `paso` no es especificado, el valor por defecto es `1`.\n",
        "\n",
        "\n"
      ],
      "metadata": {
        "id": "6VgjyoQtPHBM"
      }
    },
    {
      "cell_type": "markdown",
      "source": [
        "Vamos a recrear el mismo contador `while` con el lazo `for`."
      ],
      "metadata": {
        "id": "ryn0hfdlUwC8"
      }
    },
    {
      "cell_type": "code",
      "source": [],
      "metadata": {
        "id": "KkL1wUIj9jL4"
      },
      "execution_count": null,
      "outputs": []
    },
    {
      "cell_type": "code",
      "source": [],
      "metadata": {
        "id": "uXIZnLSr9jOu"
      },
      "execution_count": null,
      "outputs": []
    },
    {
      "cell_type": "markdown",
      "source": [
        "# Estructuras de datos"
      ],
      "metadata": {
        "id": "8noP8OJ0Vhux"
      }
    },
    {
      "cell_type": "markdown",
      "source": [
        "Un conjunto de elementos es una colección de items, que son almacenados juntos de manera organizada. Algunos ejemplos de conjuntos de elementos en Python son las listas, los strings y los diccionarios."
      ],
      "metadata": {
        "id": "xpEUkefTu8fY"
      }
    },
    {
      "cell_type": "markdown",
      "source": [
        "## Listas"
      ],
      "metadata": {
        "id": "THSg4KYLwxIb"
      }
    },
    {
      "cell_type": "markdown",
      "source": [
        "Las listas pueden almacenar una colección de items en orden. Ellas son delimitadas por corchetes `[]` y sus elementos son separados por comas.\n",
        "\n",
        "Estas pueden almacenar cualquier tipo de items, incluyendo números, strings, objetos, otras listas, entre otros. También nos permiten almacenar items de tipos de datos diferentes juntos en una única lista."
      ],
      "metadata": {
        "id": "dzpsiqrOyJcK"
      }
    },
    {
      "cell_type": "code",
      "source": [
        "lista = ['Penélope Camacho',9.5,9.0,9.7,True]\n",
        "lista"
      ],
      "metadata": {
        "id": "DO3TBj7nAYeG",
        "colab": {
          "base_uri": "https://localhost:8080/"
        },
        "outputId": "fbee2eb5-265e-4b5b-badf-a0dd9331074b"
      },
      "execution_count": null,
      "outputs": [
        {
          "output_type": "execute_result",
          "data": {
            "text/plain": [
              "['Penélope Camacho', 9.5, 9.0, 9.7, True]"
            ]
          },
          "metadata": {},
          "execution_count": 62
        }
      ]
    },
    {
      "cell_type": "code",
      "source": [],
      "metadata": {
        "id": "DO2ubP9N9D_2"
      },
      "execution_count": null,
      "outputs": []
    },
    {
      "cell_type": "markdown",
      "source": [
        "Las listas son organizadas en Python porque **cada elemento de la lista tiene un índice que indica su posición al interior de la lista**. Los índices comienzan en 0 van hasta el tamaño de la lista menos 1."
      ],
      "metadata": {
        "id": "qUz3sJNl6LgK"
      }
    },
    {
      "cell_type": "markdown",
      "source": [
        "Tenemos entonces 5 elementos con índices que varían de 0 a 4, ordenadamente:\n",
        "\n",
        "```\n",
        "#             [0]           [1]   [2]   [3]    [4]\n",
        "lista = ['Penélope Camacho', 9.5 , 9.0 , 9.7 , True]\n",
        "```\n",
        "\n",
        "En Python tenemos también los índices **negativos** que se inician en el último elemento con el valor de `-1` y avanzan en el universo de los negativos hasta llegar al 1° elemento:\n",
        "\n",
        "```\n",
        "#             [-5]         [-4]  [-3]  [-2]   [-1]\n",
        "lista = ['Penélope Camacho', 9.5 , 9.0 , 9.7 , True]\n",
        "```\n",
        "\n",
        "Logramos seleccionar separadamente cada elemento a través de sus respectivos índices. Colocando el nombre de la lista y en seguida el índice que será seleccionado."
      ],
      "metadata": {
        "id": "rLf-Qg526hFD"
      }
    },
    {
      "cell_type": "code",
      "source": [],
      "metadata": {
        "id": "4hco1Zqy88Kw"
      },
      "execution_count": null,
      "outputs": []
    },
    {
      "cell_type": "code",
      "source": [],
      "metadata": {
        "id": "M8lH0I2288Ph"
      },
      "execution_count": null,
      "outputs": []
    },
    {
      "cell_type": "markdown",
      "source": [
        "Una forma más dinámica de trabajar item a item en una lista es utilizando un lazo `for` para leer un elemento a la vez."
      ],
      "metadata": {
        "id": "6TaE1ijmBTCd"
      }
    },
    {
      "cell_type": "code",
      "source": [],
      "metadata": {
        "id": "rBx4Yu1786Sy"
      },
      "execution_count": null,
      "outputs": []
    },
    {
      "cell_type": "markdown",
      "source": [
        "**Situación**: La nota `9.0` de Penélope necesita ser ajustada pues ganó 1 punto en su última nota por participación en clase. Entonces es necesario realizar un cambio en el índice `2` de `9.0` a `10.0`."
      ],
      "metadata": {
        "id": "Dh1_HnIVvucY"
      }
    },
    {
      "cell_type": "code",
      "source": [],
      "metadata": {
        "id": "bVPoZg668z3T"
      },
      "execution_count": null,
      "outputs": []
    },
    {
      "cell_type": "code",
      "source": [],
      "metadata": {
        "id": "Jo_PBQ0g8z7D"
      },
      "execution_count": null,
      "outputs": []
    },
    {
      "cell_type": "markdown",
      "source": [
        "También podemos calcular el promedio del estudiante a partir de los datos que tenemos."
      ],
      "metadata": {
        "id": "53XduzXkycAf"
      }
    },
    {
      "cell_type": "code",
      "source": [],
      "metadata": {
        "id": "SIH61Rrb8yv4"
      },
      "execution_count": null,
      "outputs": []
    },
    {
      "cell_type": "markdown",
      "source": [
        "## Manipulación de listas\n",
        "\n",
        "Las listas son muy útiles en Python porque nos permiten almacenar y acceder a una colección de items de manera organizada y rápida. Estas también ofrecen muchos métodos útiles para manipular los itens almacenados, como adicionar, remover, clasificar y buscar elementos."
      ],
      "metadata": {
        "id": "d-iYr10-y4qw"
      }
    },
    {
      "cell_type": "markdown",
      "source": [
        "#### Cantidad de elementos\n",
        "\n",
        "Usamos la función [`len()`](https://docs.python.org/3/library/functions.html#len) para descubrir la cantidad de elementos de un conjunto."
      ],
      "metadata": {
        "id": "ZLqx9A97XVB_"
      }
    },
    {
      "cell_type": "code",
      "source": [],
      "metadata": {
        "id": "6q1Tmm7P8wQf"
      },
      "execution_count": null,
      "outputs": []
    },
    {
      "cell_type": "markdown",
      "source": [
        "#### Partición\n",
        "\n",
        "La partición de listas por indexación en Python es una técnica muy útil para seleccionar un subconjunto de elementos de una lista. Esta se realiza usando la sintaxis `lista[inicio:fin]`, donde `inicio` es el índice del primer elemento que será incluído en la partición `fin` es el índice del primer elemento que será excluído de la partición."
      ],
      "metadata": {
        "id": "Z5tpstlHJss3"
      }
    },
    {
      "cell_type": "code",
      "source": [],
      "metadata": {
        "id": "NctvJTTU8uV9"
      },
      "execution_count": null,
      "outputs": []
    },
    {
      "cell_type": "code",
      "source": [],
      "metadata": {
        "id": "bQZUwldj8uY2"
      },
      "execution_count": null,
      "outputs": []
    },
    {
      "cell_type": "markdown",
      "source": [
        "#### [`append()`](https://docs.python.org/3/tutorial/datastructures.html#:~:text=of%20list%20objects%3A-,list.append(x),-Add%20an%20item)\n",
        "\n",
        "Añade un elemento al final de la lista."
      ],
      "metadata": {
        "id": "O0RRyabkRzZC"
      }
    },
    {
      "cell_type": "code",
      "source": [],
      "metadata": {
        "id": "_Q0oODwa8spC"
      },
      "execution_count": null,
      "outputs": []
    },
    {
      "cell_type": "code",
      "source": [],
      "metadata": {
        "id": "RM894r2M8sse"
      },
      "execution_count": null,
      "outputs": []
    },
    {
      "cell_type": "markdown",
      "source": [
        "#### [`extend()`](https://docs.python.org/3/tutorial/datastructures.html#:~:text=list.extend(iterable))\n",
        "\n",
        "Añade varios elementos al final de la lista.\n",
        "\n",
        "Añadiremos las notas `[10.0,8.0,9.0]` En la lista de Penélope Camacho."
      ],
      "metadata": {
        "id": "uQV91XMsUOJD"
      }
    },
    {
      "cell_type": "code",
      "source": [],
      "metadata": {
        "id": "6Zk2MpMw8rQc"
      },
      "execution_count": null,
      "outputs": []
    },
    {
      "cell_type": "code",
      "source": [],
      "metadata": {
        "id": "NnoKkoWb8rTQ"
      },
      "execution_count": null,
      "outputs": []
    },
    {
      "cell_type": "markdown",
      "source": [
        "*A continuación te mostraremos lo que no puede realizarse con* `append`."
      ],
      "metadata": {
        "id": "IVJvkTwNUk6M"
      }
    },
    {
      "cell_type": "code",
      "source": [],
      "metadata": {
        "id": "u3Eub2ZL8pp3"
      },
      "execution_count": null,
      "outputs": []
    },
    {
      "cell_type": "code",
      "source": [],
      "metadata": {
        "id": "tsKK5Ne58pvN"
      },
      "execution_count": null,
      "outputs": []
    },
    {
      "cell_type": "markdown",
      "source": [
        "#### [`remove()`](https://docs.python.org/3/tutorial/datastructures.html#:~:text=append(x).-,list.remove(x),-Remove%20the%20first)\n",
        "\n",
        "Remueve un elemento específico de la lista."
      ],
      "metadata": {
        "id": "dPGM5gpyUX1z"
      }
    },
    {
      "cell_type": "code",
      "source": [],
      "metadata": {
        "id": "mmboODPc8nd5"
      },
      "execution_count": null,
      "outputs": []
    },
    {
      "cell_type": "code",
      "source": [],
      "metadata": {
        "id": "T_w6vVgV8nh_"
      },
      "execution_count": null,
      "outputs": []
    },
    {
      "cell_type": "markdown",
      "source": [
        "## Diccionario"
      ],
      "metadata": {
        "id": "Rc22Vc08YDZ2"
      }
    },
    {
      "cell_type": "markdown",
      "source": [
        "Los diccionarios son un tipo de estructura de datos que almacenan pares de *llave-valor*. Estos son delimitados por llaves `{}` y los pares *llave-valor* son separados por comas.\n",
        "\n",
        "```\n",
        "diccionario = {llave: valor}\n",
        "```\n",
        "\n",
        "La **llave** es un elemento único que identifica a un valor en el diccionario, mientras que el **valor** es el item que será almacenado para la llave. Las llaves y sus respectivos valores se pueden emplear para **cualquier tipo de dato**.\n",
        "\n",
        "Los diccionarios son útiles para almacenar y acceder a los datos de manera organizada y rápida. Se trata de un tipo de conjunto de elementos en Python, pues almacenan una colección de items."
      ],
      "metadata": {
        "id": "PJ-cCKPjeWxL"
      }
    },
    {
      "cell_type": "code",
      "source": [],
      "metadata": {
        "id": "NDHhzooE8ld5"
      },
      "execution_count": null,
      "outputs": []
    },
    {
      "cell_type": "code",
      "source": [],
      "metadata": {
        "id": "AVOzqzy-8lhh"
      },
      "execution_count": null,
      "outputs": []
    },
    {
      "cell_type": "markdown",
      "source": [
        "---\n",
        "**Situación:**\n",
        "\n",
        "Vamos a crear un conjunto de datos con las informaciones de matrícula de un estudiante. Los datos son los siguientes:\n",
        "\n",
        "- matrícula: 2000168933\n",
        "- día de registro: 25\n",
        "- mes de registro: 10\n",
        "- grupo: 2E"
      ],
      "metadata": {
        "id": "_JbQ3KMKfkXU"
      }
    },
    {
      "cell_type": "code",
      "source": [],
      "metadata": {
        "id": "0lfOu_c38jED"
      },
      "execution_count": null,
      "outputs": []
    },
    {
      "cell_type": "code",
      "source": [],
      "metadata": {
        "id": "XIuqpTTy8jHV"
      },
      "execution_count": null,
      "outputs": []
    },
    {
      "cell_type": "markdown",
      "source": [
        "Es posible sustituir los valores dentro de una llave. Por ejemplo, recibimos la información de que el grupo del estudiante que registramos cambio a `'2G'` y ahora necesitamos cambiar el valor de la llave `'grupo'`."
      ],
      "metadata": {
        "id": "8ex5pt2ykDd2"
      }
    },
    {
      "cell_type": "code",
      "source": [],
      "metadata": {
        "id": "kQGlp36b8fyP"
      },
      "execution_count": null,
      "outputs": []
    },
    {
      "cell_type": "code",
      "source": [],
      "metadata": {
        "id": "DnfH_qHi8f17"
      },
      "execution_count": null,
      "outputs": []
    },
    {
      "cell_type": "markdown",
      "source": [
        "También podemos añadir otros datos al diccionario. Vamos a añadir la información sobre la modalidad de estudio, nuestro estudiante estudiará inicialemente en la modalidad EAD.\n",
        "\n",
        "Definiremos una llave llamada `'modalidad'` con el valor `'EAD'`."
      ],
      "metadata": {
        "id": "wB0qRb56mQvv"
      }
    },
    {
      "cell_type": "code",
      "source": [],
      "metadata": {
        "id": "EeLYdlIm8d8a"
      },
      "execution_count": null,
      "outputs": []
    },
    {
      "cell_type": "code",
      "source": [],
      "metadata": {
        "id": "olDIavsm8d_o"
      },
      "execution_count": null,
      "outputs": []
    },
    {
      "cell_type": "markdown",
      "source": [
        "## Profundizando en diccionarios"
      ],
      "metadata": {
        "id": "LJ3o_inroxg_"
      }
    },
    {
      "cell_type": "markdown",
      "source": [
        "#### [`pop()`](https://python-reference.readthedocs.io/en/latest/docs/dict/pop.html)\n",
        "Remueve un item de un diccionario y lo representa en la salida."
      ],
      "metadata": {
        "id": "2N3GLlkSpBiu"
      }
    },
    {
      "cell_type": "code",
      "source": [],
      "metadata": {
        "id": "ZsSCZx6G8b-T"
      },
      "execution_count": null,
      "outputs": []
    },
    {
      "cell_type": "code",
      "source": [],
      "metadata": {
        "id": "7lQ8_jpi8cBR"
      },
      "execution_count": null,
      "outputs": []
    },
    {
      "cell_type": "markdown",
      "source": [
        "#### [`items()`](https://python-reference.readthedocs.io/en/latest/docs/dict/items.html)\n",
        "Retorna una lista de pares `llave-valor` del diccionario."
      ],
      "metadata": {
        "id": "sYZGvJJYrW_y"
      }
    },
    {
      "cell_type": "code",
      "source": [],
      "metadata": {
        "id": "ncdycLV08an7"
      },
      "execution_count": null,
      "outputs": []
    },
    {
      "cell_type": "markdown",
      "source": [
        "#### [`keys()`](https://python-reference.readthedocs.io/en/latest/docs/dict/keys.html)\n",
        "Retorna una lista de las llaves del diccionario."
      ],
      "metadata": {
        "id": "Lb0utNFGrZBY"
      }
    },
    {
      "cell_type": "code",
      "source": [],
      "metadata": {
        "id": "eZo0biaM8ZVs"
      },
      "execution_count": null,
      "outputs": []
    },
    {
      "cell_type": "markdown",
      "source": [
        "#### [`values()`](https://python-reference.readthedocs.io/en/latest/docs/dict/values.html)\n",
        "Retorna una lista de los valores del diccionario."
      ],
      "metadata": {
        "id": "qKyu3bf9rbtX"
      }
    },
    {
      "cell_type": "code",
      "source": [
        "tienda = {'nombres': ['televisión', 'celular', 'notebook', 'geladeira', 'estufa'],\n",
        "          'precios': [2000, 1500, 3500, 4000, 1500]}\n",
        "\n",
        "\n",
        "for clave, elementos in tienda.items():\n",
        "  print(f'Clave: {clave}\\nElementos:')\n",
        "  for dato in elementos:\n",
        "    print(dato)"
      ],
      "metadata": {
        "id": "-NxRT9C18Yvo",
        "colab": {
          "base_uri": "https://localhost:8080/"
        },
        "outputId": "9820f6e9-9c21-4404-e421-0b5f3f5717ee"
      },
      "execution_count": 3,
      "outputs": [
        {
          "output_type": "stream",
          "name": "stdout",
          "text": [
            "Clave: nombres\n",
            "Elementos:\n",
            "televisión\n",
            "celular\n",
            "notebook\n",
            "geladeira\n",
            "estufa\n",
            "Clave: precios\n",
            "Elementos:\n",
            "2000\n",
            "1500\n",
            "3500\n",
            "4000\n",
            "1500\n"
          ]
        }
      ]
    },
    {
      "cell_type": "markdown",
      "source": [
        "### Lectura de valores con el lazo `for`"
      ],
      "metadata": {
        "id": "e3XVjR8Frp75"
      }
    },
    {
      "cell_type": "code",
      "source": [
        "help(print)"
      ],
      "metadata": {
        "id": "NYcjU-Ip8Xan",
        "colab": {
          "base_uri": "https://localhost:8080/"
        },
        "outputId": "797eb331-f10a-47eb-98db-ff2ade146388"
      },
      "execution_count": 4,
      "outputs": [
        {
          "output_type": "stream",
          "name": "stdout",
          "text": [
            "Help on built-in function print in module builtins:\n",
            "\n",
            "print(*args, sep=' ', end='\\n', file=None, flush=False)\n",
            "    Prints the values to a stream, or to sys.stdout by default.\n",
            "    \n",
            "    sep\n",
            "      string inserted between values, default a space.\n",
            "    end\n",
            "      string appended after the last value, default a newline.\n",
            "    file\n",
            "      a file-like object (stream); defaults to the current sys.stdout.\n",
            "    flush\n",
            "      whether to forcibly flush the stream.\n",
            "\n"
          ]
        }
      ]
    },
    {
      "cell_type": "code",
      "source": [
        "# ejercicios\n",
        "\n",
        "# Datos de gastos\n",
        "gastos = [2172.54, 3701.35, 3518.09, 3456.61, 3249.38, 2840.82, 3891.45, 3075.26, 2317.64, 3219.08]\n",
        "\n",
        "# Calculamos el promedio encontrando el valor total de gastos con la función sum\n",
        "# y la cantidad total de compras realizadas con len\n",
        "total_gastos = sum(gastos)\n",
        "cantidad_compras = len(gastos)\n",
        "media_gastos = total_gastos / cantidad_compras\n",
        "# Resultado\n",
        "print(f'El promedio de gastos es {media_gastos} reales.')"
      ],
      "metadata": {
        "id": "aAnpP1Wv8XfJ",
        "colab": {
          "base_uri": "https://localhost:8080/"
        },
        "outputId": "0c79dc0f-1a5c-4321-915c-8cd0d9a3322d"
      },
      "execution_count": 5,
      "outputs": [
        {
          "output_type": "stream",
          "name": "stdout",
          "text": [
            "El promedio de gastos es 3144.222 reales.\n"
          ]
        }
      ]
    },
    {
      "cell_type": "code",
      "source": [
        "# ejercicio 2 Con los mismos datos de la pregunta anterior, determina cuántas compras se realizaron por\n",
        "# encima de 3000 reales y calcula el porcentaje con respecto al total de compras.\n",
        "\n",
        "# Datos de gastos\n",
        "gastos = [2172.54, 3701.35, 3518.09, 3456.61, 3249.38, 2840.82, 3891.45, 3075.26, 2317.64, 3219.08]\n",
        "\n",
        "# Variable que contará cuántas compras se realizaron por encima de 3000\n",
        "contador_acima_3000 = 0\n",
        "# Usamos un bucle para recorrer la lista de gastos\n",
        "for gasto in gastos:\n",
        "  # Verificamos si el elemento está por encima de 3000\n",
        "  if gasto > 3000:\n",
        "    # Sumamos uno al contador si hay algún valor por encima de 3000\n",
        "    contador_acima_3000 += 1\n",
        "\n",
        "# Con el conteo podemos calcular el porcentaje de valores por encima de 3000 entre todas las compras\n",
        "porcentaje_acima_3000 = 100 * contador_acima_3000 / cantidad_compras\n",
        "\n",
        "# Resultado\n",
        "print(f'{contador_acima_3000} compras estuvieron por encima de R$3000,00.')\n",
        "print(f'{porcentaje_acima_3000}% de los gastos estuvieron por encima de R$3000,00.')"
      ],
      "metadata": {
        "colab": {
          "base_uri": "https://localhost:8080/"
        },
        "id": "yDmdNcdr3CCz",
        "outputId": "5e5a67e6-ccff-499d-edcd-4b3d076b42dc"
      },
      "execution_count": 6,
      "outputs": [
        {
          "output_type": "stream",
          "name": "stdout",
          "text": [
            "7 compras estuvieron por encima de R$3000,00.\n",
            "70.0% de los gastos estuvieron por encima de R$3000,00.\n"
          ]
        }
      ]
    },
    {
      "cell_type": "code",
      "source": [
        "# ejercicio 3 3 - Crea un código que recoja en una lista 5 números enteros aleatorios e imprima la lista. Ejemplo: [1, 4, 7, 2, 4].\n",
        "# Lista que almacenará los 5 números enteros\n",
        "lista_numeros = []\n",
        "\n",
        "# Creamos un bucle que iterará 5 veces para recibir los 5 números\n",
        "for i in range(0, 5):\n",
        "  # Recopilamos el valor e lo insertamos en la lista 5 veces\n",
        "  numero = int(input('Ingresa un número entero: '))\n",
        "  lista_numeros.append(numero)\n",
        "#Resultado\n",
        "print(f'Lista de números ingresados: {lista_numeros}')"
      ],
      "metadata": {
        "id": "UT60jp--Nlup"
      },
      "execution_count": null,
      "outputs": []
    },
    {
      "cell_type": "code",
      "source": [
        "# ejercicio 4. 4 - Recoge nuevamente 5 números enteros e imprime la lista en orden inverso al enviado.\n",
        "# Lista que almacenará los 5 números enteros\n",
        "lista_numeros = []\n",
        "\n",
        "# Creamos un bucle que iterará 5 veces para recibir los 5 números\n",
        "for i in range(0, 5):\n",
        "  # Recopilamos el valor e lo insertamos en la lista 5 veces\n",
        "  numero = int(input('Ingresa un número entero: '))\n",
        "  lista_numeros.append(numero)\n",
        "# Usamos la técnica de partición para imprimir el resultado\n",
        "print(f'Lista de números invertida: {lista_numeros[::-1]}')"
      ],
      "metadata": {
        "id": "UAEqafz8NtPI"
      },
      "execution_count": null,
      "outputs": []
    },
    {
      "cell_type": "code",
      "source": [
        "# ejercicio 5. Crea un programa que, al ingresar un número cualquiera,\n",
        "# genere una lista que contenga todos los números primos entre 1 y el número ingresado.\n",
        "\n",
        "\"\"\"\n",
        "Para este problema, necesitamos verificar si todos los números, por debajo de lo especificado por el usuario,\n",
        "son o no divisibles por otros valores además de sí mismos. Para hacer esto, podemos anidar un bucle dentro de otro.\n",
        "Usamos un bucle para recorrer los números enteros de 2 al número ingresado. Para cada número, otro bucle se utiliza para\n",
        "verificar si es divisible por números más pequeños que él. Si el número no es divisible por ninguno de estos números, se\n",
        "considera un número primo. Esta estructura se puede observar a continuación:\n",
        "\"\"\"\n",
        "\n",
        "# Recopilamos el número\n",
        "numero = int(input('Ingresa un número entero: '))\n",
        "# Lista para almacenar los números primos\n",
        "lista_primos = []\n",
        "# Bucle que recorre todos los números por debajo del número ingresado\n",
        "for num in range(2, numero):\n",
        "  # Primo es una bandera que nos permite saber si el valor analizado es primo o no.\n",
        "  primo = True\n",
        "  # Probamos si todos los números por debajo del especificado en el primer bucle pueden dar una división exacta.\n",
        "  for prueba_divisibles in range(2, num):\n",
        "    if num % prueba_divisibles == 0:\n",
        "      # Si es divisible por algún número, entendemos que el número no es primo y terminamos el bucle interno con break.\n",
        "      primo = False\n",
        "      break\n",
        "  # La condición se convierte en el resultado booleano de primo: False. Ignoramos la condición True y ejecutamos el bloque del if.\n",
        "  if primo:\n",
        "    lista_primos.append(num)\n",
        "# Resultado\n",
        "print(f'Lista de números primos: {lista_primos}')\n"
      ],
      "metadata": {
        "id": "tMiNzKW8NuSm",
        "outputId": "9edcf321-c547-402d-bec1-1f6b51f5220a",
        "colab": {
          "base_uri": "https://localhost:8080/",
          "height": 87
        }
      },
      "execution_count": 7,
      "outputs": [
        {
          "output_type": "execute_result",
          "data": {
            "text/plain": [
              "'\\nPara este problema, necesitamos verificar si todos los números, por debajo de lo especificado por el usuario, \\nson o no divisibles por otros valores además de sí mismos. Para hacer esto, podemos anidar un bucle dentro de otro. \\nUsamos un bucle para recorrer los números enteros de 2 al número ingresado. Para cada número, otro bucle se utiliza para \\nverificar si es divisible por números más pequeños que él. Si el número no es divisible por ninguno de estos números, se \\nconsidera un número primo. Esta estructura se puede observar a continuación:\\n'"
            ],
            "application/vnd.google.colaboratory.intrinsic+json": {
              "type": "string"
            }
          },
          "metadata": {},
          "execution_count": 7
        }
      ]
    },
    {
      "cell_type": "code",
      "source": [
        "# ejercicio 6. Escribe un programa que pida una fecha, especificando el día, mes y año, y determine si es válida para su análisis.\n",
        "\n",
        "\"\"\"\n",
        "Recopilamos el día, mes y año de una fecha y realizamos comprobaciones mes a mes, confirmando si en febrero (sea o no un año bisiesto)\n",
        "el día coincide con lo que es posible. También se analizan los meses que terminan en 31 o 30 días para evitar la existencia de fechas\n",
        "inválidas en los datos.\n",
        "\"\"\"\n",
        "# Recopilamos la fecha\n",
        "dia = int(input('Ingrese el día: '))\n",
        "mes = int(input('Ingrese el mes: '))\n",
        "año = int(input('Ingrese el año: '))\n",
        "\n",
        "# Análisis de febrero\n",
        "if mes == 2:\n",
        "  # Verificamos si es o no un año bisiesto\n",
        "  if año % 4 == 0 and (año % 400 == 0 or año % 100 != 0):\n",
        "    dias_febrero = 29\n",
        "  else:\n",
        "    dias_febrero = 28\n",
        "  # Verificamos si el día ingresado coincide con el máximo de días de febrero\n",
        "  if dia >= 1 and dia <= dias_febrero:\n",
        "    print('Fecha válida')\n",
        "  else:\n",
        "    print('Fecha inválida')\n",
        "# Verificamos meses que terminan en 31 días\n",
        "elif mes in [1, 3, 5, 7, 8, 10, 12]:\n",
        "  if dia >= 1 and dia <= 31:\n",
        "    print('Fecha válida')\n",
        "  else:\n",
        "    print('Fecha inválida')\n",
        "# Verificamos meses que terminan en 30 días\n",
        "elif mes in [4, 6, 9, 11]:\n",
        "  if dia >= 1 and dia <= 30:\n",
        "    print('Fecha válida')\n",
        "  else:\n",
        "    print('Fecha inválida')\n",
        "# Si el mes no está entre 1 y 12\n",
        "else:\n",
        "  print('Fecha inválida')"
      ],
      "metadata": {
        "id": "p6VQqRgFNvfu"
      },
      "execution_count": null,
      "outputs": []
    },
    {
      "cell_type": "code",
      "source": [
        "# ejercicio 7. Momento para los proyectos.\n",
        "\n",
        "#Para un estudio sobre la multiplicación de bacterias en una colonia,\n",
        "# se recopiló el número de bacterias multiplicadas por día y se puede observar a continuación:\n",
        "# [1.2, 2.1, 3.3, 5.0, 7.8, 11.3, 16.6, 25.1, 37.8, 56.9]. Con estos valores, crea un código que genere una lista que contenga el\n",
        "# porcentaje de crecimiento de bacterias por día, comparando el número de bacterias en cada día con el número de bacterias del día anterior.\n",
        "# Sugerencia: para calcular el porcentaje de crecimiento, utiliza la siguiente ecuación:\n",
        "# 100 * (muestra_actual - muestra_anterior) / muestra_anterior.\n",
        "\n",
        "\n",
        "# Lista de crecimiento de bacterias\n",
        "bacterias_colonia = [1.2, 2.1, 3.3, 5.0, 7.8, 11.3, 16.6, 25.1, 37.8, 56.9]\n",
        "# Lista que almacenará las tasas de crecimiento\n",
        "porcentaje_crecimiento = []\n",
        "# Recorremos los índices de 1 a 9 para comparar los valores actuales con los anteriores\n",
        "for i in range(1, len(bacterias_colonia)):\n",
        "  # Realizamos el cálculo: 100 * (muestra_actual - muestra_anterior) / (muestra_anterior)\n",
        "  porcentaje = 100 * (bacterias_colonia[i] - bacterias_colonia[i-1]) / (bacterias_colonia[i-1])\n",
        "  # Agregamos el resultado a la lista porcentaje_crecimiento\n",
        "  porcentaje_crecimiento.append(porcentaje)\n",
        "# Resultado\n",
        "print(f'Porcentajes de crecimiento:\\n{porcentaje_crecimiento}')\n"
      ],
      "metadata": {
        "id": "1BFDnzI5Nwnr"
      },
      "execution_count": null,
      "outputs": []
    },
    {
      "cell_type": "code",
      "source": [
        "# ejercicio 8.\n",
        "\"\"\"\n",
        "Para una selección de productos alimenticios, debemos separar el conjunto de IDs proporcionados por números enteros,\n",
        "sabiendo que los productos con ID par son dulces y los que tienen ID impar son amargos. Crea un código que recoja 10 IDs.\n",
        "Luego, calcula y muestra la cantidad de productos dulces y amargos.\n",
        "\"\"\"\n",
        "\n",
        "# Lista que contendrá los valores de IDs\n",
        "ids = []\n",
        "# Variables contadoras de dulces y amargos\n",
        "dulce = 0\n",
        "amargo = 0\n",
        "\n",
        "# Creamos un bucle que iterará 10 veces para recopilar los 10 IDs\n",
        "for i in range(0,10):\n",
        "  # Recopilamos el ID y lo agregamos a la lista\n",
        "  ids.append(int(input(f'Ingrese el ID {i+1}°: '))\n",
        "\n",
        "# Leemos todos los elementos de la lista de IDs y los asignamos a id\n",
        "for id in ids:\n",
        "  # Verificamos si los elementos son pares o impares para llevar el conteo\n",
        "  if id % 2 == 0:\n",
        "    dulce += 1\n",
        "  else:\n",
        "    amargo += 1\n",
        "\n",
        "# Resultado\n",
        "print(f'Cantidad de productos dulces: {dulce}')\n",
        "print(f'Cantidad de productos amargos: {amargo}')"
      ],
      "metadata": {
        "id": "a_JcFK1eR2LM"
      },
      "execution_count": null,
      "outputs": []
    },
    {
      "cell_type": "code",
      "source": [
        "# ejercicio 9.\n",
        "\"\"\"\n",
        "Desarrolla un programa que informe la puntuación de un estudiante de acuerdo con sus respuestas. Debe pedir la respuesta del estudiante\n",
        "para cada pregunta y verificar si la respuesta coincide con el resultado. Cada pregunta vale un punto y hay opciones A, B, C o D.\n",
        "\n",
        "Resultado del examen:\n",
        "01 - D\n",
        "02 - A\n",
        "03 - C\n",
        "04 - B\n",
        "05 - A\n",
        "06 - D\n",
        "07 - C\n",
        "08 - C\n",
        "09 - A\n",
        "10 - B\n",
        "\"\"\"\n",
        "\n",
        "# Inicializamos los datos\n",
        "respuestas = []  # Lista para almacenar las respuestas\n",
        "# Lista de respuestas correctas\n",
        "gabarito = ['D', 'A', 'C', 'B', 'A', 'D', 'C', 'C', 'A', 'B']\n",
        "nota = 0  # Acumulará la nota total\n",
        "\n",
        "# Recopilamos las respuestas del estudiante\n",
        "for i in range(0, 10):\n",
        "  respuestas.append(input(f'Introduzca la respuesta a la pregunta {i + 1}: ').upper())\n",
        "\n",
        "# Verificamos si las respuestas coinciden y las sumamos a la nota\n",
        "for i in range(0, 10):\n",
        "  if respuestas[i] == gabarito[i]:\n",
        "    nota += 1\n",
        "\n",
        "# Mostrando la nota final\n",
        "print(f'Nota final: {nota}')"
      ],
      "metadata": {
        "id": "tw7mj5RZR6i2"
      },
      "execution_count": null,
      "outputs": []
    },
    {
      "cell_type": "code",
      "source": [
        "# ejercicio 10.\n",
        "\n",
        "\"\"\"\n",
        "Un instituto de meteorología desea realizar un estudio de la temperatura media de cada mes del año. Para ello, debes crear un\n",
        "código que recoja y almacene esas temperaturas medias en una lista. Luego, calcula el promedio anual de las temperaturas y\n",
        "muestra todas las temperaturas por encima del promedio anual y en qué mes ocurrieron, mostrando los meses por su nombre (Enero, Febrero, etc.).\n",
        "\"\"\"\n",
        "\n",
        "# Recopilamos la lista de temperaturas mensuales\n",
        "temperaturas_mensuales = []\n",
        "for i in range(0, 12):\n",
        "  temperaturas_mensuales.append(float(input(f'Ingrese la temperatura promedio del mes {i+1}: '))\n",
        "# Creamos una lista auxiliar para los nombres de los meses\n",
        "meses = ['Enero', 'Febrero', 'Marzo', 'Abril', 'Mayo', 'Junio', 'Julio', 'Agosto', 'Septiembre', 'Octubre', 'Noviembre', 'Diciembre']\n",
        "# Calculamos el promedio\n",
        "media_anual = sum(temperaturas_mensuales) / len(temperaturas_mensuales)\n",
        "\n",
        "# Resultado\n",
        "print('Temperaturas por encima del promedio en: ')\n",
        "for i in range(0, 12):\n",
        "  # Verificamos todas las temperaturas en comparación con la media anual\n",
        "  if temperaturas_mensuales[i] > media_anual:\n",
        "    # Dado que los índices de los meses corresponden a las temperaturas,\n",
        "    # podemos imprimirlos con el mismo índice\n",
        "    print(meses[i])"
      ],
      "metadata": {
        "id": "znB3ItkYbxQt"
      },
      "execution_count": null,
      "outputs": []
    },
    {
      "cell_type": "code",
      "source": [
        "# ejercicio 11\n",
        "\n",
        "\"\"\"\n",
        "Una empresa de comercio electrónico está interesada en analizar las ventas de sus productos. Los datos de ventas se han almacenado en\n",
        "un diccionario:\n",
        "\n",
        "{'Producto A': 300, 'Producto B': 80, 'Producto C': 60, 'Producto D': 200, 'Producto E': 250, 'Producto F': 30}\n",
        "\n",
        "Escribe un código que calcule el total de ventas y el producto más vendido.\n",
        "\"\"\"\n",
        "\n",
        "# Diccionario de ventas\n",
        "datos_ventas = {'Producto A': 300, 'Producto B': 80, 'Producto C': 60, 'Producto D': 200, 'Producto E': 250, 'Producto F': 30}\n",
        "\n",
        "# Inicializamos las variables\n",
        "total_ventas = 0  # Sumará todas las ventas\n",
        "producto_mas_vendido = ''  # Almacenará el nombre del producto más vendido\n",
        "unidades_producto_mas_vendido = 0  # Almacenará la cantidad más alta de ventas\n",
        "\n",
        "# Recorremos las claves y elementos del diccionario\n",
        "for producto in datos_ventas.keys():\n",
        "    # Sumamos el total de ventas\n",
        "    total_ventas += datos_ventas[producto]\n",
        "    # Verificamos si el valor de ventas actual (datos_ventas[producto]) es mayor que el valor almacenado en unidades_producto_mas_vendido\n",
        "    # Cada vez que datos_ventas[producto] supere el valor en unidades_producto_mas_vendido,\n",
        "    # la variable unidades_producto_mas_vendido será igual a datos_ventas[producto], asignando un nuevo valor\n",
        "    # De manera similar, producto_mas_vendido también se actualiza con el producto actual\n",
        "    if datos_ventas[producto] > unidades_producto_mas_vendido:\n",
        "        unidades_producto_mas_vendido = datos_ventas[producto]\n",
        "        producto_mas_vendido = producto\n",
        "# Resultados\n",
        "print(f'Total de ventas es {total_ventas}')\n",
        "print(f'{producto_mas_vendido} es el más vendido')"
      ],
      "metadata": {
        "id": "tML0vgBsby58"
      },
      "execution_count": null,
      "outputs": []
    },
    {
      "cell_type": "code",
      "source": [
        "# ejercicio 12\n",
        "\n",
        "\"\"\"\n",
        "Se realizó una encuesta de mercado para decidir cuál diseño de marca infantil es más atractivo para los niños. Los votos de la encuesta se\n",
        "pueden ver a continuación:\n",
        "\n",
        "Tabla de votos de la marca\n",
        "Diseño 1 - 1334 votos\n",
        "Diseño 2 - 982 votos\n",
        "Diseño 3 - 1751 votos\n",
        "Diseño 4 - 210 votos\n",
        "Diseño 5 - 1811 votos\n",
        "Copia el código\n",
        "Adapta los datos proporcionados a una estructura de diccionario. A partir de ello, informa el diseño ganador y el porcentaje de votos recibidos.\n",
        "\"\"\"\n",
        "\n",
        "# Diccionario de votos por diseño\n",
        "votos = {'Diseño 1': 1334, 'Diseño 2': 982, 'Diseño 3': 1751, 'Diseño 4': 210, 'Diseño 5': 1811}\n",
        "\n",
        "# Inicializamos las variables\n",
        "total_votos = 0  # Sumará todos los votos\n",
        "ganador = ''  # Almacenará el nombre del diseño ganador\n",
        "voto_ganador = 0  # Almacenará la cantidad ganadora de votos\n",
        "\n",
        "# Recorremos las claves y elementos del diccionario\n",
        "for diseño, voto_diseño in votos.items():\n",
        "    # Sumamos el total de votos\n",
        "    total_votos += voto_diseño\n",
        "    # Verificamos si el voto del diseño actual (voto_diseño) es mayor que el valor almacenado en voto_ganador\n",
        "    # Cada vez que voto_diseño supere el valor en voto_ganador,\n",
        "    # la variable voto_ganador será igual a voto_diseño, asignando un nuevo valor\n",
        "    # De manera similar, el ganador también se actualiza con el diseño actual\n",
        "    if voto_diseño > voto_ganador:\n",
        "        voto_ganador = voto_diseño\n",
        "        ganador = diseño\n",
        "# Calculamos el porcentaje del diseño ganador\n",
        "porcentaje = 100 * (voto_ganador) / (total_votos)\n",
        "\n",
        "# Resultado\n",
        "print(f'{ganador} es el ganador: ')\n",
        "print(f'Porcentaje de votos: {porcentaje}%')"
      ],
      "metadata": {
        "id": "EhD33_0nb0Es"
      },
      "execution_count": null,
      "outputs": []
    },
    {
      "cell_type": "code",
      "source": [
        "#ejercicio 13\n",
        "\n",
        "\"\"\"\n",
        "Los empleados de un departamento de tu empresa recibirán una bonificación del 10% de su salario debido a un excelente rendimiento del equipo.\n",
        "El departamento de finanzas ha solicitado tu ayuda para verificar las consecuencias financieras de esta bonificación en los recursos.\n",
        " Se te ha enviado una lista con los salarios que recibirán la bonificación: [1172, 1644, 2617, 5130, 5532, 6341, 6650, 7238, 7685, 7782, 7903].\n",
        "  La bonificación de cada empleado no puede ser inferior a 200. En el código, convierte cada uno de los salarios en claves de un diccionario y\n",
        "  la bonificación de cada salario en el valor correspondiente. Luego, informa el gasto total en bonificaciones, cuántos empleados recibieron\n",
        "  la bonificación mínima y cuál fue el valor más alto de la bonificación proporcionada.\n",
        "\"\"\"\n",
        "\n",
        "# Lista de salarios\n",
        "salarios = [1172, 1644, 2617, 5130, 5532, 6341, 6650, 7238, 7685, 7782, 7903]\n",
        "# Inicializamos las variables\n",
        "diccionario_abonos = {}  # Diccionario de abonos\n",
        "total_abono = 0  # Sumará todos los gastos en abonos\n",
        "abonos_minimo = 0  # Almacenará la cantidad de abonos mínimos\n",
        "mayor_abono = 0  # Almacenará el mayor valor de abono\n",
        "\n",
        "# Recorremos toda la lista de salarios\n",
        "for salario in salarios:\n",
        "    # Calculamos el valor teórico del abono\n",
        "    abono = salario * 0.1\n",
        "    # Si el abono es inferior a 200,\n",
        "    # ajustamos el valor del abono al mínimo (200)\n",
        "    if abono < 200:\n",
        "        abono = 200\n",
        "    # Agregamos un nuevo dato en el diccionario con la clave abono\n",
        "    diccionario_abonos[salario] = abono\n",
        "\n",
        "# Recorremos todos los valores del diccionario de abonos\n",
        "for abono in diccionario_abonos.values():\n",
        "    # Contamos los salarios mínimos\n",
        "    if abono == 200:\n",
        "        abonos_minimo += 1\n",
        "    # Verificamos si el abono leído es mayor que el valor almacenado en mayor_abono\n",
        "    # Cada vez que el abono supere el valor de mayor_abono,\n",
        "    # la variable mayor_abono será igual al abono, asignando un nuevo valor\n",
        "    if abono > mayor_abono:\n",
        "        mayor_abono = abono\n",
        "    # Sumamos los abonos\n",
        "    total_abono += abono\n",
        "# Resultados\n",
        "print(f'Abonos: {diccionario_abonos}')\n",
        "print(f'Total de gastos en abonos: {total_abono}')\n",
        "print(f'Número de empleados que recibieron el abono mínimo: {abonos_minimo}')\n",
        "print(f'Mayor valor de abono: {mayor_abono}')"
      ],
      "metadata": {
        "id": "pHQ93_VFcpHT"
      },
      "execution_count": null,
      "outputs": []
    },
    {
      "cell_type": "code",
      "source": [
        "#ejercicio 14\n",
        "\n",
        "\"\"\"\n",
        "Un equipo de científicos de datos está estudiando la diversidad biológica en un bosque. El equipo recopiló información sobre el número de\n",
        "especies de plantas y animales en cada área del bosque y almacenó estos datos en un diccionario. En él, la clave describe el área de los\n",
        "datos y los valores en las listas corresponden a las especies de plantas y animales en esas áreas, respectivamente.\n",
        "\n",
        "{'Área Norte': [2819, 7236], 'Área Leste': [1440, 9492], 'Área Sul': [5969, 7496], 'Área Oeste': [14446, 49688], 'Área Centro': [22558, 45148]}\n",
        "Copia el código\n",
        "Escribe un código para calcular el promedio de especies por área e identificar el área con la mayor diversidad biológica. Sugerencia: utiliza\n",
        "las funciones incorporadas sum() y len().\n",
        "\"\"\"\n",
        "\n",
        "# Especificamos los datos para un diccionario\n",
        "datos = {'Área Norte': [2819, 7236],\n",
        "         'Área Este': [1440, 9492],\n",
        "         'Área Sur': [5969, 7496],\n",
        "         'Área Oeste': [14446, 49688],\n",
        "         'Área Centro': [22558, 45148]}\n",
        "# Inicializamos las variables\n",
        "suma_media = 0  # Sumará todos los promedios\n",
        "mayor_diversidad = ''  # Almacenará el área con la mayor diversidad\n",
        "mayor_suma = 0  # Almacenará la mayor suma de especies\n",
        "# Recorremos las claves y elementos del diccionario\n",
        "for área, especies in datos.items():\n",
        "    # Sumamos el número de especies en cada área utilizando la función sum\n",
        "    suma_especies = sum(especies)\n",
        "    # Calculamos el promedio dividiendo la suma de las especies entre la cantidad de especies\n",
        "    media = suma_especies / len(especies)\n",
        "    # Imprimimos\n",
        "    print(f'El {área} tiene un promedio de {media} especies')\n",
        "    # Verificamos si la suma de especies es mayor que el valor almacenado de mayor_suma\n",
        "    # Cada vez que suma_especies supere el valor de mayor_suma,\n",
        "    # la variable mayor_suma será igual a suma_especies, asignando un nuevo valor\n",
        "    # De manera similar, mayor_diversidad también se actualiza\n",
        "    if suma_especies > mayor_suma:\n",
        "        mayor_suma = suma_especies\n",
        "        mayor_diversidad = área\n",
        "    # Sumamos los promedios\n",
        "    suma_media += media\n",
        "# La media total será la suma_media dividida por la cantidad de áreas\n",
        "media_total = suma_media / len(datos)\n",
        "print(f'Media general de especies: {media_total}')\n",
        "print(f'Área con la mayor diversidad biológica: {mayor_diversidad}')"
      ],
      "metadata": {
        "id": "0ljUy0FOcvzq"
      },
      "execution_count": null,
      "outputs": []
    },
    {
      "cell_type": "code",
      "source": [
        "#ejercicio 15\n",
        "\n",
        "\"\"\"\n",
        "El departamento de Recursos Humanos de tu empresa te pidió ayuda para analizar las edades de los colaboradores de 4 sectores de la empresa.\n",
        "Para ello, te proporcionaron los siguientes datos:\n",
        "\n",
        "{'Setor A': [22, 26, 30, 30, 35, 38, 40, 56, 57, 65],\n",
        " 'Setor B': [22, 24, 26, 33, 41, 49, 50, 54, 60, 64],\n",
        " 'Setor C': [23, 26, 26, 29, 34, 35, 36, 41, 52, 56],\n",
        " 'Setor D': [19, 20, 25, 27, 34, 39, 42, 44, 50, 65]}\n",
        "Copia el código\n",
        "Dado que cada sector tiene 10 colaboradores, construye un código que calcule la media de edad de cada sector, la edad media general entre\n",
        "todos los sectores y cuántas personas están por encima de la edad media general.\n",
        "\"\"\"\n",
        "\n",
        "# Especificamos los datos para un diccionario\n",
        "datos = {'Sector A': [22, 26, 30, 30, 35, 38, 40, 56, 57, 65],\n",
        "        'Sector B': [22, 24, 26, 33, 41, 49, 50, 54, 60, 64],\n",
        "        'Sector C': [23, 26, 26, 29, 34, 35, 36, 41, 52, 56],\n",
        "        'Sector D': [19, 20, 25, 27, 34, 39, 42, 44, 50, 65]}\n",
        "# Inicializamos la variable que sumará todas las edades\n",
        "total_edades = 0\n",
        "# Recorremos las claves y elementos del diccionario\n",
        "for sector, edades in datos.items():\n",
        "  # Calculamos el promedio dividiendo la suma de las edades entre la cantidad de empleados en cada sector\n",
        "  media_edad = sum(edades) / len(edades)\n",
        "  # Imprimimos\n",
        "  print(f'El {sector} tiene un promedio de {media_edad}')\n",
        "  # Sumamos los promedios\n",
        "  total_edades += sum(edades)\n",
        "# La media total será el total_edades dividido por la cantidad de personas totales (sectores * empleados por sector)\n",
        "media_total = total_edades / (len(edades) * len(datos))\n",
        "print(f'La media de edad general es {media_total}')\n",
        "\n",
        "# Inicializamos la variable que contará a todas las personas con edades por encima de la media\n",
        "arriba_media = 0\n",
        "# Recorremos nuevamente las claves y elementos del diccionario\n",
        "for sector, edades in datos.items():\n",
        "  # Leemos los elementos (edades) dentro de cada lista de edades en el diccionario\n",
        "  for edad in edades:\n",
        "    # Verificamos si el valor de la edad es superior a la media total\n",
        "    if edad > media_total:\n",
        "      # En caso de que el valor de la edad sea superior a la media, incrementamos en uno el contador\n",
        "      arriba_media += 1\n",
        "# Resultado\n",
        "print(f'{arriba_media} personas están por encima de la edad media general')"
      ],
      "metadata": {
        "id": "ZXFjXBpGc1HQ"
      },
      "execution_count": null,
      "outputs": []
    }
  ]
}